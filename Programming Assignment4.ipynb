{
 "cells": [
  {
   "cell_type": "code",
   "execution_count": null,
   "id": "0e39a029",
   "metadata": {},
   "outputs": [],
   "source": [
    "1. Write a Python Program to Find the Factorial of a Number?"
   ]
  },
  {
   "cell_type": "code",
   "execution_count": 6,
   "id": "e8fff4c3",
   "metadata": {},
   "outputs": [
    {
     "name": "stdout",
     "output_type": "stream",
     "text": [
      "Enter a no whose factorial is to be found=7\n",
      "factorial of 7 is 5040\n"
     ]
    }
   ],
   "source": [
    "a=int(input(\"Enter a no whose factorial is to be found=\"))\n",
    "fact=1\n",
    "if a<0:\n",
    "    print(\"factorial cannot be found\")\n",
    "elif a==0:\n",
    "    print(f\"factorial of {a} is 1\")\n",
    "else:\n",
    "    for i in range(1,a+1):\n",
    "        fact= fact*i\n",
    "print(f\"factorial of {a} is {fact}\")"
   ]
  },
  {
   "cell_type": "code",
   "execution_count": null,
   "id": "1cd18c71",
   "metadata": {},
   "outputs": [],
   "source": [
    "2. Write a Python Program to Display the multiplication Table?"
   ]
  },
  {
   "cell_type": "code",
   "execution_count": 8,
   "id": "5e8761d0",
   "metadata": {},
   "outputs": [
    {
     "name": "stdout",
     "output_type": "stream",
     "text": [
      "Enter a no whose table is to be found=7\n",
      "Table of 7 is\n",
      "7*1=7\n",
      "7*2=14\n",
      "7*3=21\n",
      "7*4=28\n",
      "7*5=35\n",
      "7*6=42\n",
      "7*7=49\n",
      "7*8=56\n",
      "7*9=63\n",
      "7*10=70\n"
     ]
    }
   ],
   "source": [
    "a=int(input(\"Enter a no whose table is to be found=\"))\n",
    "print(f\"Table of {a} is\")\n",
    "for i in range(1,11):\n",
    "    print(f\"{a}*{i}={a*i}\")"
   ]
  },
  {
   "cell_type": "code",
   "execution_count": null,
   "id": "c91216ab",
   "metadata": {},
   "outputs": [],
   "source": [
    "3. Write a Python Program to Print the Fibonacci sequence?"
   ]
  },
  {
   "cell_type": "code",
   "execution_count": 12,
   "id": "1060baf5",
   "metadata": {},
   "outputs": [
    {
     "name": "stdout",
     "output_type": "stream",
     "text": [
      "Enter no of terms fibonacci sequence to be found=10\n",
      "0 1 1 2 3 5 8 13 21 34 55 "
     ]
    }
   ],
   "source": [
    "n=int(input(\"Enter no of terms fibonacci sequence to be found=\"))\n",
    "a,b=0,1\n",
    "if n<0:\n",
    "    print(\"factotial cannot to be found\")\n",
    "elif n==1:\n",
    "    print(a,end=\" \")\n",
    "elif n==2:\n",
    "    print(a,end=\" \")\n",
    "    print(b,end=\" \")\n",
    "else:\n",
    "    print(a,end=\" \")\n",
    "    print(b,end=\" \")\n",
    "    for i in range(2,n+1):\n",
    "        c=a+b\n",
    "        a=b\n",
    "        b=c\n",
    "        print(c,end=\" \")"
   ]
  },
  {
   "cell_type": "code",
   "execution_count": null,
   "id": "ab0ccdaa",
   "metadata": {},
   "outputs": [],
   "source": [
    "4. Write a Python Program to Check Armstrong Number?"
   ]
  },
  {
   "cell_type": "code",
   "execution_count": 24,
   "id": "9175c2c8",
   "metadata": {},
   "outputs": [
    {
     "name": "stdout",
     "output_type": "stream",
     "text": [
      "Enter the no=371\n",
      "371 is an armstrong no\n"
     ]
    }
   ],
   "source": [
    "a=input(\"Enter the no=\")\n",
    "b=int(a)\n",
    "n=len(a)\n",
    "s=0\n",
    "for i in range(n):\n",
    "    c=int(a[i])**n\n",
    "    s=s+c\n",
    "if b==s:\n",
    "    print(f\"{a} is an armstrong no\")\n",
    "else:\n",
    "    print(f\"{a} is not an armstrong no\")\n",
    "    \n"
   ]
  },
  {
   "cell_type": "code",
   "execution_count": null,
   "id": "645d59d4",
   "metadata": {},
   "outputs": [],
   "source": [
    "5. Write a Python Program to Find Armstrong Number in an Interval?"
   ]
  },
  {
   "cell_type": "code",
   "execution_count": 5,
   "id": "0163bc5e",
   "metadata": {},
   "outputs": [
    {
     "name": "stdout",
     "output_type": "stream",
     "text": [
      "Enter lower range: 100\n",
      "Enter upper range: 2000\n",
      "153\n",
      "370\n",
      "371\n",
      "407\n",
      "1634\n"
     ]
    }
   ],
   "source": [
    "lower = int(input(\"Enter lower range: \"))\n",
    "upper = int(input(\"Enter upper range: \"))\n",
    " \n",
    "for num in range(lower,upper + 1):\n",
    "   # initialize sum\n",
    "   sum = 0\n",
    "   \n",
    "   # find the sum of the cube of each digit\n",
    "   temp = num\n",
    "   n=len(str(num))\n",
    "   while temp > 0:\n",
    "       digit = temp % 10\n",
    "       sum += digit ** n\n",
    "       temp //= 10\n",
    " \n",
    "   if num == sum:\n",
    "       print(num)"
   ]
  },
  {
   "cell_type": "code",
   "execution_count": null,
   "id": "c56cece2",
   "metadata": {},
   "outputs": [],
   "source": [
    "6. Write a Python Program to Find the Sum of Natural Numbers?"
   ]
  },
  {
   "cell_type": "code",
   "execution_count": 12,
   "id": "ee3ce5b0",
   "metadata": {},
   "outputs": [
    {
     "name": "stdout",
     "output_type": "stream",
     "text": [
      "Enter the no upto which sum to be found=9\n",
      "Sum of first 9 natural numbers=45\n"
     ]
    }
   ],
   "source": [
    "n=int(input(\"Enter the no upto which sum to be found=\"))\n",
    "sum=0\n",
    "for i in range(1,n+1):\n",
    "    sum=sum+i\n",
    "print(f\"Sum of first {n} natural numbers={sum}\")"
   ]
  },
  {
   "cell_type": "code",
   "execution_count": null,
   "id": "1f828c17",
   "metadata": {},
   "outputs": [],
   "source": []
  }
 ],
 "metadata": {
  "kernelspec": {
   "display_name": "Python 3 (ipykernel)",
   "language": "python",
   "name": "python3"
  },
  "language_info": {
   "codemirror_mode": {
    "name": "ipython",
    "version": 3
   },
   "file_extension": ".py",
   "mimetype": "text/x-python",
   "name": "python",
   "nbconvert_exporter": "python",
   "pygments_lexer": "ipython3",
   "version": "3.9.12"
  }
 },
 "nbformat": 4,
 "nbformat_minor": 5
}
